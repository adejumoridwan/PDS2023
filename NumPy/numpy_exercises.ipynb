{
 "cells": [
  {
   "cell_type": "markdown",
   "metadata": {},
   "source": [
    "# Exercises"
   ]
  },
  {
   "cell_type": "markdown",
   "metadata": {},
   "source": [
    "## Question 1"
   ]
  },
  {
   "cell_type": "markdown",
   "metadata": {},
   "source": [
    "Create the following Matrices   \n",
    "- **A** = A *3 x 3* matrix of prime numbers  \n",
    "- **B** = A *3 x 2* matrix of 1s  \n",
    "- **C** = A *2 x 3* matrix of multiples of 2  \n",
    "Perfom the following operations with these matrices.  \n",
    "1. Multiply **B** by 4 and multply the answer with **C** and store it in a variable called **D**\n",
    "2. Add the matrix **A** to **D** and store it in a variable called **E**\n",
    "3. Multiply the transpose of **A** by 2 and store in in a variable called **transpose_A**\n",
    "4. Check for elements in **transpose_A** that are greater than 5 and store in a variable called **g5**\n",
    "5. Calculate the row sums of the matrix **transpose_A**\n"
   ]
  },
  {
   "cell_type": "markdown",
   "metadata": {},
   "source": [
    "## Question 2\n",
    "Randomly create the test scores of 50 students in a mathematics exam graded 100% and store it a variable **scores**.  \n",
    "1. What is the highest and lowest test score in the class.\n",
    "2. What is the average score of students in the class.\n",
    "3. What are the top 20 scores in the class\n",
    "4. How many students scored below average"
   ]
  }
 ],
 "metadata": {
  "kernelspec": {
   "display_name": "Python 3.10.7 64-bit",
   "language": "python",
   "name": "python3"
  },
  "language_info": {
   "codemirror_mode": {
    "name": "ipython",
    "version": 3
   },
   "file_extension": ".py",
   "mimetype": "text/x-python",
   "name": "python",
   "nbconvert_exporter": "python",
   "pygments_lexer": "ipython3",
   "version": "3.10.7"
  },
  "orig_nbformat": 4,
  "vscode": {
   "interpreter": {
    "hash": "26de051ba29f2982a8de78e945f0abaf191376122a1563185a90213a26c5da77"
   }
  }
 },
 "nbformat": 4,
 "nbformat_minor": 2
}
